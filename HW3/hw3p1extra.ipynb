{
 "metadata": {
  "language_info": {
   "codemirror_mode": {
    "name": "ipython",
    "version": 3
   },
   "file_extension": ".py",
   "mimetype": "text/x-python",
   "name": "python",
   "nbconvert_exporter": "python",
   "pygments_lexer": "ipython3",
   "version": "3.8.5-final"
  },
  "orig_nbformat": 2,
  "kernelspec": {
   "name": "python3",
   "display_name": "Python 3.8.5 64-bit ('base': conda)",
   "metadata": {
    "interpreter": {
     "hash": "e1766cebf3df6a1c3bfac07f2a721876b9859be16ef7357b0b9094e11afc09f4"
    }
   }
  }
 },
 "nbformat": 4,
 "nbformat_minor": 2,
 "cells": [
  {
   "cell_type": "code",
   "execution_count": 3,
   "metadata": {},
   "outputs": [],
   "source": [
    "import numpy as np\n",
    "import torch\n",
    "import torch.optim as optim\n",
    "torch.set_printoptions(edgeitems=2, linewidth=75)\n"
   ]
  },
  {
   "cell_type": "code",
   "execution_count": 4,
   "metadata": {},
   "outputs": [],
   "source": [
    "t_c = torch.tensor([0.5, 14.0, 15.0, 28.0, 11.0,\n",
    "                    8.0, 3.0, -4.0, 6.0, 13.0, 21.0])\n",
    "t_u = torch.tensor([35.7, 55.9, 58.2, 81.9, 56.3, 48.9,\n",
    "                    33.9, 21.8, 48.4, 60.4, 68.4])\n",
    "#Normalizing (value between -1 - 1)\n",
    "t_un = 0.01 * t_u"
   ]
  },
  {
   "cell_type": "code",
   "execution_count": 5,
   "metadata": {},
   "outputs": [],
   "source": [
    "def model(t_u, w1, w2, b):\n",
    "    return w2 * t_u ** 2 + w1 * t_u + b"
   ]
  },
  {
   "cell_type": "code",
   "execution_count": 6,
   "metadata": {},
   "outputs": [],
   "source": [
    "def loss_fn(t_p, t_c):\n",
    "    squared_diffs = (t_p - t_c)**2\n",
    "    return squared_diffs.mean()\n"
   ]
  },
  {
   "cell_type": "code",
   "execution_count": 14,
   "metadata": {},
   "outputs": [],
   "source": [
    "\n",
    "n_samples = t_u.shape[0]\n",
    "n_val = int(0.2 * n_samples)\n",
    "\n",
    "shuffled_indices = torch.randperm(n_samples)\n",
    "\n",
    "train_indices = shuffled_indices[:-n_val]\n",
    "val_indices = shuffled_indices[-n_val:]\n",
    "\n",
    "train_indices, val_indices  # <1>\n",
    "\n",
    "train_t_u = t_u[train_indices]\n",
    "train_t_c = t_c[train_indices]\n",
    "\n",
    "val_t_u = t_u[val_indices]\n",
    "val_t_c = t_c[val_indices]\n",
    "\n",
    "train_t_un = 0.01 * train_t_u\n",
    "val_t_un = 0.01 * val_t_u"
   ]
  },
  {
   "cell_type": "code",
   "execution_count": 15,
   "metadata": {},
   "outputs": [],
   "source": [
    "def training_loop(n_epochs, optimizer, params, train_t_u, val_t_u,\n",
    "                  train_t_c, val_t_c):\n",
    "    for epoch in range(1, n_epochs + 1):\n",
    "        train_t_p = model(train_t_u, *params) # <1>\n",
    "        train_loss = loss_fn(train_t_p, train_t_c)\n",
    "                             \n",
    "        val_t_p = model(val_t_u, *params) # <1>\n",
    "        val_loss = loss_fn(val_t_p, val_t_c)\n",
    "        \n",
    "        optimizer.zero_grad()\n",
    "        train_loss.backward() # <2>\n",
    "        optimizer.step()\n",
    "\n",
    "        if epoch <= 3 or epoch % 500 == 0:\n",
    "            print(f\"Epoch {epoch}, Training loss {train_loss.item():.4f},\"\n",
    "                  f\" Validation loss {val_loss.item():.4f}\")\n",
    "            \n",
    "    return params"
   ]
  },
  {
   "cell_type": "code",
   "execution_count": 16,
   "metadata": {},
   "outputs": [
    {
     "output_type": "stream",
     "name": "stdout",
     "text": [
      "Epoch 1, Training loss 124.1280, Validation loss 351.3965\n",
      "Epoch 2, Training loss 119.4730, Validation loss 343.2898\n",
      "Epoch 3, Training loss 115.0613, Validation loss 335.5335\n",
      "Epoch 500, Training loss 22.9361, Validation loss 93.0040\n",
      "Epoch 1000, Training loss 14.8027, Validation loss 56.8464\n",
      "Epoch 1500, Training loss 9.8759, Validation loss 34.9428\n",
      "Epoch 2000, Training loss 6.8915, Validation loss 21.6756\n",
      "Epoch 2500, Training loss 5.0835, Validation loss 13.6412\n",
      "Epoch 3000, Training loss 3.9882, Validation loss 8.7769\n",
      "Epoch 3500, Training loss 3.3246, Validation loss 5.8335\n",
      "Epoch 4000, Training loss 2.9224, Validation loss 4.0537\n",
      "Epoch 4500, Training loss 2.6786, Validation loss 2.9787\n",
      "Epoch 5000, Training loss 2.5307, Validation loss 2.3305\n"
     ]
    },
    {
     "output_type": "execute_result",
     "data": {
      "text/plain": [
       "tensor([24.7269, 24.6632, -9.3986], requires_grad=True)"
      ]
     },
     "metadata": {},
     "execution_count": 16
    }
   ],
   "source": [
    "#Non-Linear Model with SGD reserving 20% of the data for validation\n",
    "params = torch.tensor([1.0, 1.0, 0.0], requires_grad=True)\n",
    "learning_rate = 1e-2\n",
    "optimizer = optim.SGD([params], lr=learning_rate)\n",
    "\n",
    "training_loop(\n",
    "    n_epochs = 5000, \n",
    "    optimizer = optimizer,\n",
    "    params = params,\n",
    "    train_t_u = train_t_un, # <1> \n",
    "    val_t_u = val_t_un, # <1> \n",
    "    train_t_c = train_t_c,\n",
    "    val_t_c = val_t_c)"
   ]
  },
  {
   "cell_type": "code",
   "execution_count": 21,
   "metadata": {},
   "outputs": [
    {
     "output_type": "stream",
     "name": "stdout",
     "text": [
      "Epoch 1, Training loss 124.1280, Validation loss 351.3965\n",
      "Epoch 2, Training loss 123.7794, Validation loss 350.7367\n",
      "Epoch 3, Training loss 123.4316, Validation loss 350.0777\n",
      "Epoch 500, Training loss 37.4905, Validation loss 158.8574\n",
      "Epoch 1000, Training loss 27.1680, Validation loss 111.6235\n",
      "Epoch 1500, Training loss 23.7155, Validation loss 93.1775\n",
      "Epoch 2000, Training loss 19.9536, Validation loss 76.3038\n",
      "Epoch 2500, Training loss 16.0662, Validation loss 59.1560\n",
      "Epoch 3000, Training loss 12.3658, Validation loss 42.9948\n",
      "Epoch 3500, Training loss 9.1191, Validation loss 28.9970\n",
      "Epoch 4000, Training loss 6.5085, Validation loss 17.9389\n",
      "Epoch 4500, Training loss 4.6080, Validation loss 10.0965\n",
      "Epoch 5000, Training loss 3.3809, Validation loss 5.2456\n"
     ]
    },
    {
     "output_type": "execute_result",
     "data": {
      "text/plain": [
       "tensor([19.0104, 26.2467, -6.8815], requires_grad=True)"
      ]
     },
     "metadata": {},
     "execution_count": 21
    }
   ],
   "source": [
    "#Non-Linear Model with Adam reserving 20% of the data for validation\n",
    "params = torch.tensor([1.0, 1.0, 0.0], requires_grad=True)\n",
    "learning_rate = 1e-2\n",
    "optimizer = optim.Adam([params], lr=learning_rate)\n",
    "\n",
    "training_loop(\n",
    "    n_epochs = 5000, \n",
    "    optimizer = optimizer,\n",
    "    params = params,\n",
    "    train_t_u = train_t_un, # <1> \n",
    "    val_t_u = val_t_un, # <1> \n",
    "    train_t_c = train_t_c,\n",
    "    val_t_c = val_t_c)"
   ]
  },
  {
   "cell_type": "code",
   "execution_count": null,
   "metadata": {},
   "outputs": [],
   "source": []
  }
 ]
}